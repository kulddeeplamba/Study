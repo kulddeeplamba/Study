{
 "cells": [
  {
   "cell_type": "code",
   "execution_count": 18,
   "metadata": {},
   "outputs": [
    {
     "data": {
      "text/plain": [
       "Text(0, 0.5, 'Y')"
      ]
     },
     "execution_count": 18,
     "metadata": {},
     "output_type": "execute_result"
    },
    {
     "data": {
      "image/png": "[encoded data removed]",
      "text/plain": [
       "<Figure size 432x288 with 1 Axes>"
      ]
     },
     "metadata": {
      "needs_background": "light"
     },
     "output_type": "display_data"
    }
   ],
   "source": [
    "from sklearn.preprocessing import MinMaxScaler \n",
    "import matplotlib.pyplot as plt\n",
    "import numpy as np\n",
    "%matplotlib inline \n",
    "\n",
    "sample_size = 100\n",
    "\n",
    "x = np.linspace(-5, 5, sample_size)\n",
    "x = x.reshape(sample_size,1)\n",
    "\n",
    "\n",
    "noise = np.random.randn(sample_size)\n",
    "\n",
    "\n",
    "noise = 0.2*noise.reshape(sample_size,1)\n",
    "\n",
    "Y = 1/(1 + np.exp(-(8.9)*x)) + noise\n",
    "\n",
    "Y = Y.reshape(sample_size, 1)\n",
    "plt.scatter(x,Y)\n",
    "\n",
    "Y = (Y>=0.5)\n",
    "\n",
    "\n",
    "plt.scatter(x,Y)\n",
    "\n",
    "plt.xlabel('X')\n",
    "plt.ylabel('Y')"
   ]
  },
  {
   "cell_type": "code",
   "execution_count": 19,
   "metadata": {},
   "outputs": [
    {
     "name": "stdout",
     "output_type": "stream",
     "text": [
      "[18.71265973]\n"
     ]
    },
    {
     "data": {
      "text/plain": [
       "[<matplotlib.lines.Line2D at 0x7f36af1c3d68>]"
      ]
     },
     "execution_count": 19,
     "metadata": {},
     "output_type": "execute_result"
    },
    {
     "data": {
      "image/png": "[encoded data removed]",
      "text/plain": [
       "<Figure size 432x288 with 1 Axes>"
      ]
     },
     "metadata": {
      "needs_background": "light"
     },
     "output_type": "display_data"
    }
   ],
   "source": [
    "theta = np.random.random(1)\n",
    "\n",
    "learning_rate = 0.1\n",
    "\n",
    "H = 1/(1 + np.exp(-theta*x))\n",
    "       \n",
    "j = (-1/(sample_size))*np.sum(Y*np.log(H) + (1 - Y)*np.log(1 - H)) \n",
    "\n",
    "for _ in range(10000):\n",
    "        \n",
    "    temp = theta - learning_rate*np.sum((H - Y)*(x))\n",
    "    theta = temp\n",
    "    H = 1/(1 + np.exp(-theta*x))\n",
    "\n",
    "# print(np.mean(Y==(H>=0.5)))    \n",
    "print(theta)\n",
    "plt.scatter(x,Y)\n",
    "plt.plot(x, H)"
   ]
  },
  {
   "cell_type": "code",
   "execution_count": null,
   "metadata": {},
   "outputs": [],
   "source": []
  },
  {
   "cell_type": "code",
   "execution_count": null,
   "metadata": {},
   "outputs": [],
   "source": []
  }
 ],
 "metadata": {
  "kernelspec": {
   "display_name": "Python 3",
   "language": "python",
   "name": "python3"
  },
  "language_info": {
   "codemirror_mode": {
    "name": "ipython",
    "version": 3
   },
   "file_extension": ".py",
   "mimetype": "text/x-python",
   "name": "python",
   "nbconvert_exporter": "python",
   "pygments_lexer": "ipython3",
   "version": "3.6.9"
  }
 },
 "nbformat": 4,
 "nbformat_minor": 2
}
