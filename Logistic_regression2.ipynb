{
 "cells": [
  {
   "cell_type": "code",
   "execution_count": 167,
   "metadata": {},
   "outputs": [
    {
     "data": {
      "text/plain": [
       "<matplotlib.collections.PathCollection at 0x1a379835ba8>"
      ]
     },
     "execution_count": 167,
     "metadata": {},
     "output_type": "execute_result"
    },
    {
     "data": {
      "image/png": "[encoded data removed]",
      "text/plain": [
       "<Figure size 432x288 with 1 Axes>"
      ]
     },
     "metadata": {},
     "output_type": "display_data"
    }
   ],
   "source": [
    "from sklearn.preprocessing import MinMaxScaler \n",
    "import matplotlib.pyplot as plt\n",
    "import numpy as np\n",
    "%matplotlib inline \n",
    "\n",
    "sample_size = 100\n",
    "\n",
    "x = np.linspace(-5,5,sample_space).reshape(sample_size,1)\n",
    "\n",
    "noise = 0.3*np.random.randn(sample_space).reshape(sample_size,1)\n",
    "\n",
    "Y = (1/(1 + np.exp(-(8.9)*x))) + noise\n",
    "\n",
    "plt.scatter(x,Y)\n",
    "\n",
    "Y_ = np.array([])\n",
    "\n",
    "for i in Y:\n",
    "    if i < 0.5:\n",
    "        Y_ = np.append(Y_,[0])\n",
    "    \n",
    "    elif i >= 0.5:\n",
    "        Y_ = np.append(Y_,[1])\n",
    "\n",
    "# Y = (Y>=0.5)\n",
    "plt.scatter(x,Y_)"
   ]
  },
  {
   "cell_type": "code",
   "execution_count": 171,
   "metadata": {},
   "outputs": [
    {
     "name": "stdout",
     "output_type": "stream",
     "text": [
      "0.0\n",
      "[10.27417301]\n"
     ]
    },
    {
     "name": "stderr",
     "output_type": "stream",
     "text": [
      "C:\\Users\\KaranjotSingh Vilkhu\\Anaconda3\\lib\\site-packages\\ipykernel_launcher.py:17: RuntimeWarning: divide by zero encountered in log\n",
      "C:\\Users\\KaranjotSingh Vilkhu\\Anaconda3\\lib\\site-packages\\numpy\\core\\_methods.py:32: RuntimeWarning: invalid value encountered in reduce\n",
      "  return umr_sum(a, axis, dtype, out, keepdims)\n"
     ]
    },
    {
     "data": {
      "text/plain": [
       "[<matplotlib.lines.Line2D at 0x1a379945b00>]"
      ]
     },
     "execution_count": 171,
     "metadata": {},
     "output_type": "execute_result"
    },
    {
     "data": {
      "image/png": "[encoded data removed]",
      "text/plain": [
       "<Figure size 432x288 with 1 Axes>"
      ]
     },
     "metadata": {},
     "output_type": "display_data"
    }
   ],
   "source": [
    "theta = np.random.randn(1)\n",
    "\n",
    "learning_rate = 0.1\n",
    "H = (1/(1 + np.exp(-theta*x)))\n",
    "\n",
    "j = (-1/(sample_size))*np.sum(Y*np.log(H) + (1 - Y)*np.log(1 - H)) \n",
    "J = 2*j\n",
    "\n",
    "while ((J - j)> 0.0001):\n",
    "# for i in range(1000):    \n",
    "    temp = theta - learning_rate*np.sum((H - Y)*(x))\n",
    "    theta = temp\n",
    "    \n",
    "    H = 1/(1 + np.exp(-theta*x))\n",
    "    \n",
    "    J = 2*j\n",
    "    j = (-1/(sample_size))*np.sum(Y*np.log(H) + (1 - Y)*np.log(1 - H)) \n",
    "    \n",
    "    \n",
    "    \n",
    "print(np.mean(Y ==(H>=0.5)))   \n",
    "print(theta)\n",
    "\n",
    "plt.scatter(x,Y)\n",
    "plt.plot(x,H)"
   ]
  },
  {
   "cell_type": "code",
   "execution_count": null,
   "metadata": {},
   "outputs": [],
   "source": []
  },
  {
   "cell_type": "code",
   "execution_count": null,
   "metadata": {},
   "outputs": [],
   "source": []
  }
 ],
 "metadata": {
  "kernelspec": {
   "display_name": "Python 3",
   "language": "python",
   "name": "python3"
  },
  "language_info": {
   "codemirror_mode": {
    "name": "ipython",
    "version": 3
   },
   "file_extension": ".py",
   "mimetype": "text/x-python",
   "name": "python",
   "nbconvert_exporter": "python",
   "pygments_lexer": "ipython3",
   "version": "3.6.4"
  }
 },
 "nbformat": 4,
 "nbformat_minor": 2
}
